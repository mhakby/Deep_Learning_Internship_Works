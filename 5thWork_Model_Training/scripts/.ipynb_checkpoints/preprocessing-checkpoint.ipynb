{
 "cells": [
  {
   "cell_type": "markdown",
   "id": "2754ae62-8ff4-4e44-89d6-39694dc57e5f",
   "metadata": {},
   "source": [
    "# Preprocessing.py "
   ]
  },
  {
   "cell_type": "markdown",
   "id": "6b5b89b3-fbb4-4692-b8a3-ce5cf8ac71d2",
   "metadata": {},
   "source": [
    "Bu süreçte veri setini yükleyip eksik veriler ve hatalı veriler kontrol edilip eğitim süreci dışında tutulur."
   ]
  },
  {
   "cell_type": "code",
   "execution_count": 1,
   "id": "b5e40728-afae-4b84-9207-9d75663cd105",
   "metadata": {},
   "outputs": [],
   "source": [
    "import pandas as pd\n",
    "import numpy as np\n",
    "from sklearn.model_selection import train_test_split\n",
    "from sklearn.preprocessing import StandardScaler\n",
    "import os"
   ]
  },
  {
   "cell_type": "markdown",
   "id": "7dcfadda-7666-4021-9736-a29f6c517b6a",
   "metadata": {},
   "source": [
    "* Veri okuma, işleme, düzenleme, analiz ve manipülasyonu için pandas,\n",
    "* Sayısal hesaplamalar için numpy,\n",
    "* Veri setini eğitim ve test setlerine bölmek için scikit-learn kütüphanesi içerisinden train_test_split,\n",
    "* Verileri ölçeklendirmek ve standardize etmek için StandardScaler kullanıldı.( Feature'lardaki sayısal verilerin ortalaması 0 ve standart sapması 1 olarak ele alınıp tüm sayısal veriler model eğitimi için standardize edilir.)"
   ]
  },
  {
   "cell_type": "markdown",
   "id": "7c34001c-f1c4-42ee-beba-26bfef84d810",
   "metadata": {},
   "source": [
    "1) Öncelikle veri seti yüklenir."
   ]
  },
  {
   "cell_type": "code",
   "execution_count": 3,
   "id": "dde271c9-4715-47fb-9482-8304831a85f3",
   "metadata": {},
   "outputs": [],
   "source": [
    "data = pd.read_csv('../data/data1.csv')\n",
    "data.dropna(inplace=True)"
   ]
  },
  {
   "cell_type": "markdown",
   "id": "21cbfc55-e5a9-4a87-839f-9d48a042806c",
   "metadata": {},
   "source": [
    "* inplace=True ile NaN değer içeren satırları veri setinden kaldırmış olduk."
   ]
  },
  {
   "cell_type": "markdown",
   "id": "b1f56298-263d-4fba-b12d-dfd3c6cc903d",
   "metadata": {},
   "source": [
    "2) Feature'lar tanımlanır."
   ]
  },
  {
   "cell_type": "code",
   "execution_count": 6,
   "id": "cd745bbe-4dd1-4a3b-87a6-0bee774a1eaf",
   "metadata": {},
   "outputs": [],
   "source": [
    "features = data[['Word_Count', 'Link_Count', 'Image_Count', 'Video_Count', 'Has_Ads', 'Domain_Age', 'Payment_Present',\n",
    "                 'Login_Present', 'User_Comments', 'Cookies_Present']]"
   ]
  },
  {
   "cell_type": "code",
   "execution_count": 7,
   "id": "fa7e2e6a-cbe8-4264-a9c9-c5824da2232c",
   "metadata": {},
   "outputs": [],
   "source": [
    "target = data['Category']"
   ]
  },
  {
   "cell_type": "markdown",
   "id": "9dba1469-6f79-4745-98a6-526b6fc40d39",
   "metadata": {},
   "source": [
    "3) Sınıf sayılarının kontrolü. Bu kontrol kullandığım zayıf veri seti için kullandığım bir hata önleyici pozisyonda. Normalde iyi hazırlanmış bir veri setinde buna gerek olmayabilir."
   ]
  },
  {
   "cell_type": "code",
   "execution_count": 8,
   "id": "4d7b2cf3-50af-4053-a44b-6aa5843df804",
   "metadata": {},
   "outputs": [],
   "source": [
    "min_samples_per_class = 2\n",
    "class_counts = target.value_counts()\n",
    "valid_classes = class_counts[class_counts >= min_samples_per_class].index"
   ]
  },
  {
   "cell_type": "markdown",
   "id": "2a6ab6c4-7ea1-4997-aae3-04a2a2704da8",
   "metadata": {},
   "source": [
    "Category etiketleri ile valid_classes ile oluşturulan etiketlerin kıyaslaması : "
   ]
  },
  {
   "cell_type": "code",
   "execution_count": 9,
   "id": "c2b2e099-59c0-4d6f-af66-0edb6788bfa8",
   "metadata": {},
   "outputs": [],
   "source": [
    "filtered_data = data[data['Category'].isin(valid_classes)]"
   ]
  },
  {
   "cell_type": "markdown",
   "id": "a9306b53-0cbe-49ed-87e4-129c2b4bea5b",
   "metadata": {},
   "source": [
    "Yalnızca geçerli indexlerdeki satırların seçilmesi ve yeni target değeri olarak atanması : "
   ]
  },
  {
   "cell_type": "code",
   "execution_count": 10,
   "id": "6fc20893-216c-408b-a14b-1db1643dc5f7",
   "metadata": {},
   "outputs": [],
   "source": [
    "features = features.loc[filtered_data.index]\n",
    "target = filtered_data['Category']"
   ]
  },
  {
   "cell_type": "markdown",
   "id": "1f2c1269-4f36-4706-9c24-07e405d66cb2",
   "metadata": {},
   "source": [
    "4) Eğitim, test ve validation veri setlerinin train_test_split() ile hazırlanması : "
   ]
  },
  {
   "cell_type": "code",
   "execution_count": 11,
   "id": "b8255126-eb87-4e1a-bed0-94d5c713507c",
   "metadata": {},
   "outputs": [],
   "source": [
    "X_train, X_temp, y_train, y_temp = train_test_split(features, target, test_size=0.2, random_state=42, stratify=target)"
   ]
  },
  {
   "cell_type": "markdown",
   "id": "c81041bb-0787-4147-bfb6-dbad82f59052",
   "metadata": {},
   "source": [
    "* stratify=target ile veri setinin bölünmesinde sınıf dağılımları korunur. Örneğin sınıflar arasında dengesizlik varsa( Örneğin %70 sınıf A, %30 sınıf B gibi) bu oranlar hem eğitim hem de test setlerinde korunur."
   ]
  },
  {
   "cell_type": "markdown",
   "id": "c3b40de6-1e62-4dc2-98e5-a017b813bc84",
   "metadata": {},
   "source": [
    "İlk bölmeden sonra geçici veri setinde (X_temp, y_temp) de yeterli örneği olmayan sınıfları kaldırma:"
   ]
  },
  {
   "cell_type": "code",
   "execution_count": 12,
   "id": "5a66b68d-f61a-42ad-a673-169a79070cb2",
   "metadata": {},
   "outputs": [],
   "source": [
    "temp_class_counts = y_temp.value_counts()\n",
    "valid_temp_classes = temp_class_counts[temp_class_counts >= min_samples_per_class].index\n",
    "\n",
    "# Geçici veri setinden yeterli örneği olmayan sınıfları kaldırma\n",
    "X_temp = X_temp[y_temp.isin(valid_temp_classes)]\n",
    "y_temp = y_temp[y_temp.isin(valid_temp_classes)]"
   ]
  },
  {
   "cell_type": "markdown",
   "id": "241af367-e38d-4fc0-8159-aae8ac3bf0d1",
   "metadata": {},
   "source": [
    "Train ve Temp olarak ele aldığımız veri setinde Temp için ayrılan verilerin validation ve test için ayrıca bölünmesi : "
   ]
  },
  {
   "cell_type": "code",
   "execution_count": 13,
   "id": "947f849a-f0d4-4555-982d-c791644ccd98",
   "metadata": {},
   "outputs": [],
   "source": [
    "X_val, X_test, y_val, y_test = train_test_split(X_temp, y_temp, test_size=0.5, random_state=42, stratify=y_temp)"
   ]
  },
  {
   "cell_type": "markdown",
   "id": "fcb615e8-7bab-451d-b039-d0f126835888",
   "metadata": {},
   "source": [
    "Feature değerlerinin her bir veri seti için ölçeklendirilmesi : "
   ]
  },
  {
   "cell_type": "code",
   "execution_count": 14,
   "id": "cddebdb7-e751-4b19-b878-dc113ca8319a",
   "metadata": {},
   "outputs": [],
   "source": [
    "scaler = StandardScaler()\n",
    "X_train_scaled = scaler.fit_transform(X_train)\n",
    "X_val_scaled = scaler.transform(X_val)\n",
    "X_test_scaled = scaler.transform(X_test)"
   ]
  },
  {
   "cell_type": "markdown",
   "id": "54e0d5e0-d46e-4e9f-8469-5b0a2b4179bf",
   "metadata": {},
   "source": [
    "Hazırlanan veri setlerinin numpy dizisi olarak lokale kaydedilmesi : "
   ]
  },
  {
   "cell_type": "code",
   "execution_count": 15,
   "id": "64763bc0-3cca-4c62-895e-4f088ba12851",
   "metadata": {},
   "outputs": [],
   "source": [
    "current_directory = os.getcwd()"
   ]
  },
  {
   "cell_type": "code",
   "execution_count": 16,
   "id": "4ac94017-5623-41d3-8409-ba051ef763dc",
   "metadata": {},
   "outputs": [],
   "source": [
    "np.save(os.path.join(current_directory, 'X_train_scaled.npy'), X_train_scaled)\n",
    "np.save(os.path.join(current_directory, 'y_train.npy'), y_train)\n",
    "np.save(os.path.join(current_directory, 'X_val_scaled.npy'), X_val_scaled)\n",
    "np.save(os.path.join(current_directory, 'y_val.npy'), y_val)\n",
    "np.save(os.path.join(current_directory, 'X_test_scaled.npy'), X_test_scaled)\n",
    "np.save(os.path.join(current_directory, 'y_test.npy'), y_test)"
   ]
  },
  {
   "cell_type": "code",
   "execution_count": 17,
   "id": "7a919169-261d-4048-9df2-80f6f34a40d3",
   "metadata": {},
   "outputs": [
    {
     "name": "stdout",
     "output_type": "stream",
     "text": [
      "Data processing completed and saved.\n"
     ]
    }
   ],
   "source": [
    "print(\"Data processing completed and saved.\")"
   ]
  },
  {
   "cell_type": "code",
   "execution_count": null,
   "id": "f926d4a8-95ec-4563-a486-ec0fea286f9c",
   "metadata": {},
   "outputs": [],
   "source": []
  }
 ],
 "metadata": {
  "kernelspec": {
   "display_name": "Python 3 (ipykernel)",
   "language": "python",
   "name": "python3"
  },
  "language_info": {
   "codemirror_mode": {
    "name": "ipython",
    "version": 3
   },
   "file_extension": ".py",
   "mimetype": "text/x-python",
   "name": "python",
   "nbconvert_exporter": "python",
   "pygments_lexer": "ipython3",
   "version": "3.11.8"
  }
 },
 "nbformat": 4,
 "nbformat_minor": 5
}
